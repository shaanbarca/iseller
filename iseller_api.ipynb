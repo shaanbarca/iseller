{
 "cells": [
  {
   "cell_type": "code",
   "execution_count": 20,
   "id": "8f5004ee-a596-4ee5-8f26-ec748c4effc1",
   "metadata": {},
   "outputs": [],
   "source": [
    "import pandas as pd\n",
    "import json\n",
    "import os\n",
    "import re\n",
    "import ast\n",
    "\n",
    "pd.set_option('display.max_columns', None)"
   ]
  },
  {
   "cell_type": "code",
   "execution_count": 42,
   "id": "a65fa80e-dcca-457f-9935-eb3f34b0f3e1",
   "metadata": {},
   "outputs": [],
   "source": [
    "# customer repeat orders -customer_id\n",
    "\n",
    "with open(\"iseller_api_response.json\", \"r\") as file:\n",
    "    data = json.load(file)"
   ]
  },
  {
   "cell_type": "code",
   "execution_count": 78,
   "id": "c6ed8502-5590-417c-a0d3-d521c584eae8",
   "metadata": {},
   "outputs": [],
   "source": [
    "def normalize_list_dictionary(dictionary):\n",
    "    normalized_dict_list = []\n",
    "    for element in dictionary:\n",
    "        try:\n",
    "            num_orders = len(element)\n",
    "            index = 0\n",
    "            while num_orders > index:\n",
    "                normalized_dict_list.append(element[index])\n",
    "                index += 1\n",
    "        except:\n",
    "            pass\n",
    "    # Remove Keys with None values\n",
    "    filtered_orders_dict = [order for order in normalized_dict_list if order is not None]\n",
    "    return filtered_orders_dict"
   ]
  },
  {
   "cell_type": "code",
   "execution_count": 38,
   "id": "0df52b4b-65fb-417e-b98a-fe7df5d9903f",
   "metadata": {},
   "outputs": [],
   "source": [
    "def proccess_iseller_data(data):\n",
    "    orders_df = pd.DataFrame(data['orders'])\n",
    "    \n",
    "    order_details_dict = orders_df[\"order_details\"].to_list()\n",
    "    normalized_order_details = normalize_list_dictionary(order_details_dict)\n",
    "    order_details = pd.DataFrame(normalized_order_details)\n",
    "\n",
    "    #rename columns, grand_total_amount refers to the entire amount of the whole order while total_order_amount refers to total product for a product type\n",
    "    orders_df.rename(columns = {'total_order_amount':' grand_total_amount'}, inplace = True) \n",
    "\n",
    "    #merge columns\n",
    "    relevant_order_details = order_details[[\"order_id\", \"product_id\", \"product_name\", \"product_type\", \"fulfillment_status\", \"quantity\", \"base_price\", \"total_order_amount\", \"cogs\"]]\n",
    "    merged_orders = orders_df.merge(relevant_order_details, how=\"left\", on=\"order_id\")\n",
    "    \n",
    "    # convert to correct dtypes\n",
    "    merged_orders['order_date'] = pd.to_datetime(merged_orders['order_date'])\n",
    "    merged_orders['closed_date'] = pd.to_datetime(merged_orders['closed_date'])\n",
    "\n",
    "    return merged_orders\n",
    "\n",
    "\n",
    "def get_list_json(input_folder):\n",
    "    # Initialize a list to store all JSON data\n",
    "    all_data = []\n",
    "\n",
    "    # Iterate through each JSON file in the folder\n",
    "    for filename in os.listdir(input_folder):\n",
    "        if filename.endswith('.json'):\n",
    "            file_path = os.path.join(input_folder, filename)\n",
    "            with open(file_path, 'r', encoding='utf-8') as json_file:\n",
    "                data = json.load(json_file)\n",
    "                if isinstance(data, list):\n",
    "                    all_data.extend(data)\n",
    "                elif isinstance(data, dict):\n",
    "                    all_data.append(data)\n",
    "\n",
    "    return all_data\n"
   ]
  },
  {
   "cell_type": "code",
   "execution_count": 39,
   "id": "d39a75cd",
   "metadata": {},
   "outputs": [],
   "source": [
    "def extract_volume(product_name):\n",
    "    volume_regex = r'(\\d+(\\.\\d+)?\\s*(ml|l))'  # Regex pattern to match both 'ml' and 'l' formats\n",
    "    #match = re.search(volume_regex, product_name)\n",
    "    match = re.search(volume_regex, str(product_name))  # Ensure product_name is converted to string\n",
    "\n",
    "    if match:\n",
    "        return match.group(1)\n",
    "    else:\n",
    "        return 'unspecified'\n",
    "    \n",
    "def clean_product_name(product_name):\n",
    "    # volume_regex = r'\\b\\d+(\\.\\d+)?\\s*(ml|l)\\b'  # '\\b' for word boundaries\n",
    "    # pattern = r'\\b\\d+(\\.\\d+)?\\s*(ml|l)\\b|bli - |gof - '  # '\\b' for word boundaries\n",
    "    pattern = r'\\b\\d+(\\.\\d+)?\\s*(ml|l)\\b|bli - |gof - |- resell ecer| - resell dus|-resell dus|- dus|cabang - '  # '\\b' for word boundaries\n",
    "\n",
    "    return re.sub(pattern, '', str(product_name))  # Ensure product_name is converted to string\n"
   ]
  },
  {
   "cell_type": "code",
   "execution_count": 40,
   "id": "dc02fca3-ceea-4453-8cca-60c49b9f2e7b",
   "metadata": {},
   "outputs": [],
   "source": [
    "# # Store list of json data \n",
    "# list_json_data = get_list_json('data/raw_data')\n",
    "# test_json = list_json_data[:5]\n",
    "# list_df = []\n",
    "\n",
    "# # concat list of df \n",
    "# for i in list_json_data:\n",
    "#     df = proccess_iseller_data(i)\n",
    "#     list_df.append(df)\n",
    "\n",
    "# full_iseller_data = pd.concat(list_df)"
   ]
  },
  {
   "cell_type": "code",
   "execution_count": 41,
   "id": "230ac66c-a802-4225-868f-4fb475bc6a30",
   "metadata": {},
   "outputs": [
    {
     "ename": "NameError",
     "evalue": "name 'full_iseller_data' is not defined",
     "output_type": "error",
     "traceback": [
      "\u001b[0;31m---------------------------------------------------------------------------\u001b[0m",
      "\u001b[0;31mNameError\u001b[0m                                 Traceback (most recent call last)",
      "Cell \u001b[0;32mIn[41], line 1\u001b[0m\n\u001b[0;32m----> 1\u001b[0m full_iseller_data[\u001b[38;5;124m'\u001b[39m\u001b[38;5;124morder_date\u001b[39m\u001b[38;5;124m'\u001b[39m] \u001b[38;5;241m=\u001b[39m pd\u001b[38;5;241m.\u001b[39mto_datetime(\u001b[43mfull_iseller_data\u001b[49m[\u001b[38;5;124m'\u001b[39m\u001b[38;5;124morder_date\u001b[39m\u001b[38;5;124m'\u001b[39m])\n\u001b[1;32m      2\u001b[0m full_iseller_data[\u001b[38;5;124m'\u001b[39m\u001b[38;5;124mhour\u001b[39m\u001b[38;5;124m'\u001b[39m] \u001b[38;5;241m=\u001b[39m full_iseller_data[\u001b[38;5;124m'\u001b[39m\u001b[38;5;124morder_date\u001b[39m\u001b[38;5;124m'\u001b[39m]\u001b[38;5;241m.\u001b[39mdt\u001b[38;5;241m.\u001b[39mhour\n\u001b[1;32m      3\u001b[0m full_iseller_data[\u001b[38;5;124m'\u001b[39m\u001b[38;5;124mday\u001b[39m\u001b[38;5;124m'\u001b[39m] \u001b[38;5;241m=\u001b[39m full_iseller_data[\u001b[38;5;124m'\u001b[39m\u001b[38;5;124morder_date\u001b[39m\u001b[38;5;124m'\u001b[39m]\u001b[38;5;241m.\u001b[39mdt\u001b[38;5;241m.\u001b[39mday\n",
      "\u001b[0;31mNameError\u001b[0m: name 'full_iseller_data' is not defined"
     ]
    }
   ],
   "source": [
    "full_iseller_data['order_date'] = pd.to_datetime(full_iseller_data['order_date'])\n",
    "full_iseller_data['hour'] = full_iseller_data['order_date'].dt.hour\n",
    "full_iseller_data['day'] = full_iseller_data['order_date'].dt.day\n",
    "full_iseller_data['month'] = full_iseller_data['order_date'].dt.month\n",
    "full_iseller_data['week'] = full_iseller_data['order_date'].dt.isocalendar().week\n",
    "full_iseller_data['Quarter'] = full_iseller_data['order_date'].dt.quarter\n",
    "\n",
    "\n",
    "# get location columns, get coordinates ?\n",
    "full_iseller_data['location'] = full_iseller_data['outlet_name'].str.split(' - ').str[0]\n",
    "\n",
    "\n",
    "# standardize naming\n",
    "full_iseller_data['product_name'] = full_iseller_data['product_name'].str.lower()\n",
    "full_iseller_data['Volume'] = full_iseller_data['product_name'].apply(extract_volume)\n",
    "full_iseller_data['clean_product_name'] = full_iseller_data['product_name'].apply(clean_product_name)\n",
    "full_iseller_data['clean_product_name'] = full_iseller_data['clean_product_name'].str.strip()\n"
   ]
  },
  {
   "cell_type": "code",
   "execution_count": null,
   "id": "9bb494a8-e9e2-4af0-aaef-dfbcca573928",
   "metadata": {},
   "outputs": [],
   "source": []
  },
  {
   "cell_type": "code",
   "execution_count": 12,
   "id": "f5e3beb5-b5a9-4c18-8697-b92a319ddd84",
   "metadata": {},
   "outputs": [],
   "source": [
    "full_iseller_data.to_csv('full_iseller_data.csv')"
   ]
  },
  {
   "cell_type": "code",
   "execution_count": 13,
   "id": "d90526f7-0a6f-4a11-be54-c62ba3d8aa5c",
   "metadata": {},
   "outputs": [
    {
     "name": "stdout",
     "output_type": "stream",
     "text": [
      "First Order:  2024-01-01 00:03:37\n",
      "Latest Order:  2024-05-09 12:12:41\n"
     ]
    }
   ],
   "source": [
    "print(\"First Order: \", full_iseller_data[\"order_date\"].min())\n",
    "print(\"Latest Order: \", full_iseller_data[\"order_date\"].max())"
   ]
  },
  {
   "cell_type": "code",
   "execution_count": 154,
   "id": "842d94d3-f51a-46e0-bbca-1a910e9405af",
   "metadata": {},
   "outputs": [],
   "source": [
    "# full_iseller_data.sort_values(by=\"order_date\", ascending=True).tail()"
   ]
  },
  {
   "cell_type": "code",
   "execution_count": null,
   "id": "1f329dd2-3b67-4f97-bb76-30eb3b6e7bac",
   "metadata": {},
   "outputs": [],
   "source": [
    "# anggur merah gold cap orang tua anggur merah premium\tanggur kolesom 17.5% cap orang tua are these (are all amer cap orang tua)"
   ]
  },
  {
   "cell_type": "code",
   "execution_count": 46,
   "id": "745e5a13-3415-47f9-a165-4a7ed1fce3ee",
   "metadata": {},
   "outputs": [],
   "source": [
    "full_iseller_data = proccess_iseller_data(data)"
   ]
  },
  {
   "cell_type": "code",
   "execution_count": 69,
   "id": "54ee8f45-ff44-4712-b618-2a89aba194a9",
   "metadata": {},
   "outputs": [],
   "source": [
    "cogs__list_dict = full_iseller_data[\"cogs\"].to_list()\n",
    "normalized_cogs = normalize_list_dictionary(cogs_dict)"
   ]
  },
  {
   "cell_type": "code",
   "execution_count": 76,
   "id": "754e2414-69a4-4b69-8312-8d813adfb596",
   "metadata": {},
   "outputs": [],
   "source": [
    "cogs_df = pd.DataFrame(normalized_cogs)\n",
    "cogs_df = cogs_df.drop_duplicates(subset=['product_id'], keep='first')\n"
   ]
  },
  {
   "cell_type": "code",
   "execution_count": 77,
   "id": "5c6960ea-06c4-4afb-9774-391598b16bbf",
   "metadata": {},
   "outputs": [
    {
     "data": {
      "text/html": [
       "<div>\n",
       "<style scoped>\n",
       "    .dataframe tbody tr th:only-of-type {\n",
       "        vertical-align: middle;\n",
       "    }\n",
       "\n",
       "    .dataframe tbody tr th {\n",
       "        vertical-align: top;\n",
       "    }\n",
       "\n",
       "    .dataframe thead th {\n",
       "        text-align: right;\n",
       "    }\n",
       "</style>\n",
       "<table border=\"1\" class=\"dataframe\">\n",
       "  <thead>\n",
       "    <tr style=\"text-align: right;\">\n",
       "      <th></th>\n",
       "      <th>product_id</th>\n",
       "      <th>sku</th>\n",
       "      <th>quantity</th>\n",
       "      <th>price</th>\n",
       "    </tr>\n",
       "  </thead>\n",
       "  <tbody>\n",
       "    <tr>\n",
       "      <th>0</th>\n",
       "      <td>dd1f826a-2802-4e95-86d7-fad7cbb943ec</td>\n",
       "      <td>LQ27</td>\n",
       "      <td>1.0</td>\n",
       "      <td>214286.0000</td>\n",
       "    </tr>\n",
       "    <tr>\n",
       "      <th>1</th>\n",
       "      <td>a127a2f6-384a-49c9-8c86-c65baff376fb</td>\n",
       "      <td>WN42</td>\n",
       "      <td>1.0</td>\n",
       "      <td>48000.0000</td>\n",
       "    </tr>\n",
       "    <tr>\n",
       "      <th>2</th>\n",
       "      <td>10cf05ab-2cca-4e84-b47b-c6d212dca0a6</td>\n",
       "      <td>GI2</td>\n",
       "      <td>1.0</td>\n",
       "      <td>383333.0000</td>\n",
       "    </tr>\n",
       "    <tr>\n",
       "      <th>3</th>\n",
       "      <td>ff30df11-5337-46b9-8144-9847e6af0475</td>\n",
       "      <td>LQ26</td>\n",
       "      <td>1.0</td>\n",
       "      <td>214286.0000</td>\n",
       "    </tr>\n",
       "    <tr>\n",
       "      <th>4</th>\n",
       "      <td>73df6ce4-a9bd-408c-9e77-546ef7b992e4</td>\n",
       "      <td>BR4</td>\n",
       "      <td>5.0</td>\n",
       "      <td>15333.0000</td>\n",
       "    </tr>\n",
       "    <tr>\n",
       "      <th>...</th>\n",
       "      <td>...</td>\n",
       "      <td>...</td>\n",
       "      <td>...</td>\n",
       "      <td>...</td>\n",
       "    </tr>\n",
       "    <tr>\n",
       "      <th>254</th>\n",
       "      <td>a17f7401-1e88-423e-86d1-f6134971c232</td>\n",
       "      <td>WH13</td>\n",
       "      <td>1.0</td>\n",
       "      <td>81550.0001</td>\n",
       "    </tr>\n",
       "    <tr>\n",
       "      <th>257</th>\n",
       "      <td>1adeb77c-85f6-47e4-9300-7764529f5345</td>\n",
       "      <td>BR20</td>\n",
       "      <td>10.0</td>\n",
       "      <td>29906.0000</td>\n",
       "    </tr>\n",
       "    <tr>\n",
       "      <th>271</th>\n",
       "      <td>1b2b7b86-79a8-4ab0-92c6-5b461274644b</td>\n",
       "      <td>SJ3</td>\n",
       "      <td>3.0</td>\n",
       "      <td>53500.0000</td>\n",
       "    </tr>\n",
       "    <tr>\n",
       "      <th>291</th>\n",
       "      <td>f81dc309-6c82-4bde-afed-a57818fce1f2</td>\n",
       "      <td>LQ0021</td>\n",
       "      <td>1.0</td>\n",
       "      <td>170769.0000</td>\n",
       "    </tr>\n",
       "    <tr>\n",
       "      <th>295</th>\n",
       "      <td>5dc3df26-5bdb-4909-92eb-dbecf1e83fe8</td>\n",
       "      <td>LQ0011</td>\n",
       "      <td>1.0</td>\n",
       "      <td>170769.0000</td>\n",
       "    </tr>\n",
       "  </tbody>\n",
       "</table>\n",
       "<p>103 rows × 4 columns</p>\n",
       "</div>"
      ],
      "text/plain": [
       "                               product_id     sku  quantity        price\n",
       "0    dd1f826a-2802-4e95-86d7-fad7cbb943ec    LQ27       1.0  214286.0000\n",
       "1    a127a2f6-384a-49c9-8c86-c65baff376fb    WN42       1.0   48000.0000\n",
       "2    10cf05ab-2cca-4e84-b47b-c6d212dca0a6     GI2       1.0  383333.0000\n",
       "3    ff30df11-5337-46b9-8144-9847e6af0475    LQ26       1.0  214286.0000\n",
       "4    73df6ce4-a9bd-408c-9e77-546ef7b992e4     BR4       5.0   15333.0000\n",
       "..                                    ...     ...       ...          ...\n",
       "254  a17f7401-1e88-423e-86d1-f6134971c232    WH13       1.0   81550.0001\n",
       "257  1adeb77c-85f6-47e4-9300-7764529f5345    BR20      10.0   29906.0000\n",
       "271  1b2b7b86-79a8-4ab0-92c6-5b461274644b     SJ3       3.0   53500.0000\n",
       "291  f81dc309-6c82-4bde-afed-a57818fce1f2  LQ0021       1.0  170769.0000\n",
       "295  5dc3df26-5bdb-4909-92eb-dbecf1e83fe8  LQ0011       1.0  170769.0000\n",
       "\n",
       "[103 rows x 4 columns]"
      ]
     },
     "execution_count": 77,
     "metadata": {},
     "output_type": "execute_result"
    }
   ],
   "source": [
    "cogs_df"
   ]
  },
  {
   "cell_type": "code",
   "execution_count": null,
   "id": "54c60878-84ff-4e8a-a5b9-a0e1709e1c06",
   "metadata": {},
   "outputs": [],
   "source": []
  }
 ],
 "metadata": {
  "kernelspec": {
   "display_name": "Python 3 (ipykernel)",
   "language": "python",
   "name": "python3"
  },
  "language_info": {
   "codemirror_mode": {
    "name": "ipython",
    "version": 3
   },
   "file_extension": ".py",
   "mimetype": "text/x-python",
   "name": "python",
   "nbconvert_exporter": "python",
   "pygments_lexer": "ipython3",
   "version": "3.10.13"
  }
 },
 "nbformat": 4,
 "nbformat_minor": 5
}
