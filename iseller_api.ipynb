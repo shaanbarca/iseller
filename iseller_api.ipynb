{
 "cells": [
  {
   "cell_type": "code",
   "execution_count": 3,
   "id": "8f5004ee-a596-4ee5-8f26-ec748c4effc1",
   "metadata": {},
   "outputs": [],
   "source": [
    "import pandas as pd\n",
    "import json\n",
    "\n",
    "pd.set_option('display.max_columns', None)"
   ]
  },
  {
   "cell_type": "code",
   "execution_count": 4,
   "id": "a65fa80e-dcca-457f-9935-eb3f34b0f3e1",
   "metadata": {},
   "outputs": [],
   "source": [
    "# customer repeat orders -customer_id\n",
    "\n",
    "with open(\"iseller_api_response.json\", \"r\") as file:\n",
    "    data = json.load(file)"
   ]
  },
  {
   "cell_type": "code",
   "execution_count": 6,
   "id": "c6ed8502-5590-417c-a0d3-d521c584eae8",
   "metadata": {},
   "outputs": [],
   "source": [
    "def normalize_list_dictionary(dictionary):\n",
    "    normalized_dict_list = []\n",
    "    for element in dictionary:\n",
    "        num_orders = len(element)\n",
    "        index = 0\n",
    "        while num_orders > index:\n",
    "            normalized_dict_list.append(element[index])\n",
    "            index += 1\n",
    "    # Remove Keys with None values\n",
    "    filtered_orders_dict = [order for order in normalized_dict_list if order is not None]\n",
    "    return filtered_orders_dict"
   ]
  },
  {
   "cell_type": "code",
   "execution_count": 7,
   "id": "0df52b4b-65fb-417e-b98a-fe7df5d9903f",
   "metadata": {},
   "outputs": [],
   "source": [
    "def proccess_iseller_data(data):\n",
    "    orders_df = pd.DataFrame(data['orders'])\n",
    "    \n",
    "    order_details_dict = orders_df[\"order_details\"].to_list()\n",
    "    normalized_order_details = normalize_list_dictionary(order_details_dict)\n",
    "    order_details = pd.DataFrame(normalized_order_details)\n",
    "\n",
    "    #rename columns\n",
    "    orders_df.rename(columns = {'total_order_amount':' grand_total_amount'}, inplace = True) \n",
    "\n",
    "    #merge columns\n",
    "    relevant_order_details = order_details[[\"order_id\", \"product_id\", \"product_name\", \"product_type\", \"fulfillment_status\", \"quantity\", \"base_price\", \"total_order_amount\"]]\n",
    "    merged_orders = orders_df.merge(relevant_order_details, how=\"left\", on=\"order_id\")\n",
    "    \n",
    "    # convert to correct dtypes\n",
    "    merged_orders['order_date'] = pd.to_datetime(merged_orders['order_date'])\n",
    "    merged_orders['closed_date'] = pd.to_datetime(merged_orders['closed_date'])\n",
    "\n",
    "    return merged_orders\n",
    "    \n",
    "    "
   ]
  },
  {
   "cell_type": "code",
   "execution_count": 8,
   "id": "93260db2-62a4-4b45-b91c-83a1cc5e8c4c",
   "metadata": {},
   "outputs": [],
   "source": [
    "iseller_df = proccess_iseller_data(data)"
   ]
  },
  {
   "cell_type": "code",
   "execution_count": 12,
   "id": "1b3bb818-1ff6-4870-a485-5f521fc80c93",
   "metadata": {},
   "outputs": [
    {
     "name": "stdout",
     "output_type": "stream",
     "text": [
      "First Order:  2021-02-25 08:22:02\n",
      "Latest Order:  2021-02-26 22:06:33\n"
     ]
    }
   ],
   "source": [
    "print(\"First Order: \", iseller_df[\"order_date\"].min())\n",
    "print(\"Latest Order: \", iseller_df[\"order_date\"].max())"
   ]
  },
  {
   "cell_type": "code",
   "execution_count": 15,
   "id": "57ec12fe-e255-41f2-80a2-442f2e1eefd2",
   "metadata": {},
   "outputs": [],
   "source": [
    "iseller_df.to_csv(\"iseller_data.csv\", index=False)"
   ]
  },
  {
   "cell_type": "code",
   "execution_count": null,
   "id": "7c303039-b5cb-474d-a16c-f01f932bf020",
   "metadata": {},
   "outputs": [],
   "source": []
  },
  {
   "cell_type": "code",
   "execution_count": null,
   "id": "dc02fca3-ceea-4453-8cca-60c49b9f2e7b",
   "metadata": {},
   "outputs": [],
   "source": []
  }
 ],
 "metadata": {
  "kernelspec": {
   "display_name": "Python 3 (ipykernel)",
   "language": "python",
   "name": "python3"
  },
  "language_info": {
   "codemirror_mode": {
    "name": "ipython",
    "version": 3
   },
   "file_extension": ".py",
   "mimetype": "text/x-python",
   "name": "python",
   "nbconvert_exporter": "python",
   "pygments_lexer": "ipython3",
   "version": "3.10.13"
  }
 },
 "nbformat": 4,
 "nbformat_minor": 5
}
