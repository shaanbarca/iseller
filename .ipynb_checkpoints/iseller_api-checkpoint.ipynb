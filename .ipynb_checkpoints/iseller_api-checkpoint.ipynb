{
 "cells": [
  {
   "cell_type": "code",
   "execution_count": 31,
   "id": "8f5004ee-a596-4ee5-8f26-ec748c4effc1",
   "metadata": {},
   "outputs": [],
   "source": [
    "import pandas as pd\n",
    "import json\n",
    "import os\n",
    "\n",
    "pd.set_option('display.max_columns', None)"
   ]
  },
  {
   "cell_type": "code",
   "execution_count": 32,
   "id": "a65fa80e-dcca-457f-9935-eb3f34b0f3e1",
   "metadata": {},
   "outputs": [],
   "source": [
    "# customer repeat orders -customer_id\n",
    "\n",
    "with open(\"iseller_api_response.json\", \"r\") as file:\n",
    "    data = json.load(file)"
   ]
  },
  {
   "cell_type": "code",
   "execution_count": 33,
   "id": "c6ed8502-5590-417c-a0d3-d521c584eae8",
   "metadata": {},
   "outputs": [],
   "source": [
    "def normalize_list_dictionary(dictionary):\n",
    "    normalized_dict_list = []\n",
    "    for element in dictionary:\n",
    "        num_orders = len(element)\n",
    "        index = 0\n",
    "        while num_orders > index:\n",
    "            normalized_dict_list.append(element[index])\n",
    "            index += 1\n",
    "    # Remove Keys with None values\n",
    "    filtered_orders_dict = [order for order in normalized_dict_list if order is not None]\n",
    "    return filtered_orders_dict"
   ]
  },
  {
   "cell_type": "code",
   "execution_count": 107,
   "id": "0df52b4b-65fb-417e-b98a-fe7df5d9903f",
   "metadata": {},
   "outputs": [],
   "source": [
    "def proccess_iseller_data(data):\n",
    "    orders_df = pd.DataFrame(data['orders'])\n",
    "    \n",
    "    order_details_dict = orders_df[\"order_details\"].to_list()\n",
    "    normalized_order_details = normalize_list_dictionary(order_details_dict)\n",
    "    order_details = pd.DataFrame(normalized_order_details)\n",
    "\n",
    "    #rename columns\n",
    "    orders_df.rename(columns = {'total_order_amount':' grand_total_amount'}, inplace = True) \n",
    "\n",
    "    #merge columns\n",
    "    relevant_order_details = order_details[[\"order_id\", \"product_id\", \"product_name\", \"product_type\", \"fulfillment_status\", \"quantity\", \"base_price\", \"total_order_amount\"]]\n",
    "    merged_orders = orders_df.merge(relevant_order_details, how=\"left\", on=\"order_id\")\n",
    "    \n",
    "    # convert to correct dtypes\n",
    "    merged_orders['order_date'] = pd.to_datetime(merged_orders['order_date'])\n",
    "    merged_orders['closed_date'] = pd.to_datetime(merged_orders['closed_date'])\n",
    "\n",
    "    return merged_orders\n",
    "\n",
    "\n",
    "def get_list_json(input_folder):\n",
    "    # Initialize a list to store all JSON data\n",
    "    all_data = []\n",
    "\n",
    "    # Iterate through each JSON file in the folder\n",
    "    for filename in os.listdir(input_folder):\n",
    "        if filename.endswith('.json'):\n",
    "            file_path = os.path.join(input_folder, filename)\n",
    "            with open(file_path, 'r', encoding='utf-8') as json_file:\n",
    "                data = json.load(json_file)\n",
    "                if isinstance(data, list):\n",
    "                    all_data.extend(data)\n",
    "                elif isinstance(data, dict):\n",
    "                    all_data.append(data)\n",
    "\n",
    "    return all_dat\n"
   ]
  },
  {
   "cell_type": "code",
   "execution_count": 35,
   "id": "93260db2-62a4-4b45-b91c-83a1cc5e8c4c",
   "metadata": {},
   "outputs": [],
   "source": [
    "# iseller_df = proccess_iseller_data(data)\n",
    "# print(\"First Order: \", iseller_df[\"order_date\"].min())\n",
    "# print(\"Latest Order: \", iseller_df[\"order_date\"].max())\n",
    "# iseller_df.to_csv(\"iseller_data.csv\", index=False)"
   ]
  },
  {
   "cell_type": "code",
   "execution_count": 22,
   "id": "dc02fca3-ceea-4453-8cca-60c49b9f2e7b",
   "metadata": {},
   "outputs": [],
   "source": [
    "# Store list of json data \n",
    "all_data = get_list_json('data/raw_data')\n",
    "list_df = []\n",
    "\n",
    "# concat list of df \n",
    "for i in test_json_list:\n",
    "    df = proccess_iseller_data(i)\n",
    "    list_df.append(df)\n",
    "\n",
    "full_iseller_data = pd.concat(list_df)"
   ]
  },
  {
   "cell_type": "code",
   "execution_count": null,
   "id": "d90526f7-0a6f-4a11-be54-c62ba3d8aa5c",
   "metadata": {},
   "outputs": [],
   "source": [
    "print(\"First Order: \", full_iseller_data[\"order_date\"].min())\n",
    "print(\"Latest Order: \", full_iseller_data[\"order_date\"].max())"
   ]
  }
 ],
 "metadata": {
  "kernelspec": {
   "display_name": "Python 3 (ipykernel)",
   "language": "python",
   "name": "python3"
  },
  "language_info": {
   "codemirror_mode": {
    "name": "ipython",
    "version": 3
   },
   "file_extension": ".py",
   "mimetype": "text/x-python",
   "name": "python",
   "nbconvert_exporter": "python",
   "pygments_lexer": "ipython3",
   "version": "3.10.13"
  }
 },
 "nbformat": 4,
 "nbformat_minor": 5
}
