{
 "cells": [
  {
   "cell_type": "code",
   "execution_count": 37,
   "id": "3204b35b-0dca-4519-8889-0017486afa80",
   "metadata": {},
   "outputs": [],
   "source": [
    "import pandas as pd\n",
    "import plotly.express as px\n",
    "import plotly.io as pio\n",
    "pio.renderers.default = 'iframe' # or 'notebook' or 'colab' or 'jupyterlab'\n",
    "\n",
    "pd.set_option('display.max_columns', None)"
   ]
  },
  {
   "cell_type": "code",
   "execution_count": 9,
   "id": "f80089cc-db26-44e8-ae7d-b329a95634af",
   "metadata": {},
   "outputs": [],
   "source": [
    "df = pd.read_csv(\"iseller_data.csv\")"
   ]
  },
  {
   "cell_type": "code",
   "execution_count": 45,
   "id": "5e491524-8ad9-4078-a3a3-b1e634e552fb",
   "metadata": {},
   "outputs": [],
   "source": [
    "def filter_dataframe(df, date_start=None, date_end=None, product_category=None, product_name=None):\n",
    "    filtered_df = df.copy()  # Create a copy to avoid modifying the original DataFrame\n",
    "    \n",
    "    # Apply filters based on the provided parameters\n",
    "    if date_start is not None:\n",
    "        filtered_df = filtered_df[filtered_df['order_date'] >= pd.to_datetime(date_start)]\n",
    "    if date_end is not None:\n",
    "        filtered_df = filtered_df[filtered_df['order_date'] <= pd.to_datetime(date_end)]\n",
    "    if product_category is not None:\n",
    "        filtered_df = filtered_df[filtered_df['product_category'] == product_category]\n",
    "    if product_name is not None:\n",
    "        filtered_df = filtered_df[filtered_df['product_name'] == product_name]\n",
    "    \n",
    "    return filtered_df\n",
    "\n",
    "\n",
    "\n",
    "product_quantity = df.groupby('product_name')['quantity'].sum().reset_index().sort_values(by='quantity', ascending=False)"
   ]
  },
  {
   "cell_type": "code",
   "execution_count": 53,
   "id": "87428bd8-97e0-4745-848e-33de804ed500",
   "metadata": {},
   "outputs": [],
   "source": [
    "def plot_barchart(df, num_products):\n",
    "    ## To do\n",
    "    # Title\n",
    "    # Proper display\n",
    "    # Fix legends\n",
    "    # X and Y label\n",
    "    df = df.head(num_products)\n",
    "    fig = px.bar(df, x='product_name', y='quantity')\n",
    "    return fig.show()\n",
    "\n",
    "    "
   ]
  },
  {
   "cell_type": "code",
   "execution_count": 50,
   "id": "bb1427c6-ee03-4b3b-ae38-263d07fc1a89",
   "metadata": {},
   "outputs": [],
   "source": [
    "def get_total_product_sales(df, date_start=None, date_end =None, product_category=None, product_name=None):\n",
    "    \n",
    "    product_quantity = df.groupby('product_name')['quantity'].sum().reset_index()\n",
    "    return product_quantity"
   ]
  },
  {
   "cell_type": "code",
   "execution_count": 51,
   "id": "7696b5f3-b236-4401-b9fa-d93404a283b7",
   "metadata": {},
   "outputs": [
    {
     "data": {
      "text/html": [
       "<iframe\n",
       "    scrolling=\"no\"\n",
       "    width=\"100%\"\n",
       "    height=\"545px\"\n",
       "    src=\"iframe_figures/figure_51.html\"\n",
       "    frameborder=\"0\"\n",
       "    allowfullscreen\n",
       "></iframe>\n"
      ]
     },
     "metadata": {},
     "output_type": "display_data"
    }
   ],
   "source": [
    "plot_barchart(product_quantity, 5)"
   ]
  },
  {
   "cell_type": "code",
   "execution_count": null,
   "id": "8ed5bb9f-c213-4bd5-9d66-5763a422b4ae",
   "metadata": {},
   "outputs": [],
   "source": []
  }
 ],
 "metadata": {
  "kernelspec": {
   "display_name": "Python 3 (ipykernel)",
   "language": "python",
   "name": "python3"
  },
  "language_info": {
   "codemirror_mode": {
    "name": "ipython",
    "version": 3
   },
   "file_extension": ".py",
   "mimetype": "text/x-python",
   "name": "python",
   "nbconvert_exporter": "python",
   "pygments_lexer": "ipython3",
   "version": "3.10.13"
  }
 },
 "nbformat": 4,
 "nbformat_minor": 5
}
