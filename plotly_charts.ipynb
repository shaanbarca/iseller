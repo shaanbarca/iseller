{
 "cells": [
  {
   "cell_type": "code",
   "execution_count": 2,
   "id": "3204b35b-0dca-4519-8889-0017486afa80",
   "metadata": {},
   "outputs": [],
   "source": [
    "import pandas as pd\n",
    "import plotly.express as px\n",
    "import plotly.io as pio\n",
    "pio.renderers.default = 'iframe' # or 'notebook' or 'colab' or 'jupyterlab'\n",
    "\n",
    "pd.set_option('display.max_columns', None)"
   ]
  },
  {
   "cell_type": "code",
   "execution_count": 18,
   "id": "f80089cc-db26-44e8-ae7d-b329a95634af",
   "metadata": {},
   "outputs": [],
   "source": [
    "df = pd.read_csv(\"iseller_data.csv\")\n",
    "\n",
    "df['order_date'] = pd.to_datetime(df['order_date'])\n",
    "df['hour'] = df['order_date'].dt.hour\n",
    "df['day'] = df['order_date'].dt.day"
   ]
  },
  {
   "cell_type": "code",
   "execution_count": 4,
   "id": "5e491524-8ad9-4078-a3a3-b1e634e552fb",
   "metadata": {},
   "outputs": [],
   "source": [
    "def filter_dataframe(df, date_start=None, date_end=None, product_category=None, product_name=None):\n",
    "    filtered_df = df.copy()  # Create a copy to avoid modifying the original DataFrame\n",
    "    \n",
    "    # Apply filters based on the provided parameters\n",
    "    if date_start is not None:\n",
    "        filtered_df = filtered_df[filtered_df['order_date'] >= pd.to_datetime(date_start)]\n",
    "    if date_end is not None:\n",
    "        filtered_df = filtered_df[filtered_df['order_date'] <= pd.to_datetime(date_end)]\n",
    "    if product_category is not None:\n",
    "        filtered_df = filtered_df[filtered_df['product_category'] == product_category]\n",
    "    if product_name is not None:\n",
    "        filtered_df = filtered_df[filtered_df['product_name'] == product_name]\n",
    "    \n",
    "    return filtered_df\n",
    "\n",
    "\n",
    "\n",
    "product_quantity = df.groupby('product_name')['quantity'].sum().reset_index().sort_values(by='quantity', ascending=False)"
   ]
  },
  {
   "cell_type": "code",
   "execution_count": 57,
   "id": "87428bd8-97e0-4745-848e-33de804ed500",
   "metadata": {},
   "outputs": [],
   "source": [
    "def plot_barchart(df, num_products, title):\n",
    "    ## To do\n",
    "    # Title\n",
    "    # Proper display\n",
    "    # Fix legends\n",
    "    # X and Y label\n",
    "    df = df.head(num_products)\n",
    "    fig = px.bar(df, x='product_name', y='quantity', title=title,\n",
    "                 labels={\n",
    "                 \"product_name\": \"Product Name\",\n",
    "                 \"quantity\": \"Quantity\",\n",
    "              \n",
    "             })\n",
    "  \n",
    "    return fig.show()\n",
    "\n",
    "    "
   ]
  },
  {
   "cell_type": "code",
   "execution_count": 58,
   "id": "bb1427c6-ee03-4b3b-ae38-263d07fc1a89",
   "metadata": {},
   "outputs": [],
   "source": [
    "def get_total_product_sales(df, date_start=None, date_end =None, product_category=None, product_name=None):\n",
    "    product_quantity = df.groupby('product_name')['quantity'].sum().reset_index()\n",
    "    return product_quantity"
   ]
  },
  {
   "cell_type": "code",
   "execution_count": 59,
   "id": "7696b5f3-b236-4401-b9fa-d93404a283b7",
   "metadata": {},
   "outputs": [
    {
     "data": {
      "text/html": [
       "<iframe\n",
       "    scrolling=\"no\"\n",
       "    width=\"100%\"\n",
       "    height=\"545px\"\n",
       "    src=\"iframe_figures/figure_59.html\"\n",
       "    frameborder=\"0\"\n",
       "    allowfullscreen\n",
       "></iframe>\n"
      ]
     },
     "metadata": {},
     "output_type": "display_data"
    }
   ],
   "source": [
    "plot_barchart(product_quantity, 20, title=\"Top Selling Items\")"
   ]
  },
  {
   "cell_type": "code",
   "execution_count": 43,
   "id": "8ed5bb9f-c213-4bd5-9d66-5763a422b4ae",
   "metadata": {},
   "outputs": [],
   "source": [
    "def plot_line_chart(df, group_by=\"hour\"):\n",
    "    agg_df = df.groupby(group_by)['quantity'].sum().reset_index()\n",
    "    fig = px.line(agg_df, x=group_by, y='quantity')\n",
    "    return fig.show()"
   ]
  },
  {
   "cell_type": "code",
   "execution_count": 60,
   "id": "bd331912-6edd-4707-96b7-61c095327154",
   "metadata": {},
   "outputs": [
    {
     "data": {
      "text/html": [
       "<iframe\n",
       "    scrolling=\"no\"\n",
       "    width=\"100%\"\n",
       "    height=\"545px\"\n",
       "    src=\"iframe_figures/figure_60.html\"\n",
       "    frameborder=\"0\"\n",
       "    allowfullscreen\n",
       "></iframe>\n"
      ]
     },
     "metadata": {},
     "output_type": "display_data"
    }
   ],
   "source": [
    "plot_line_chart(df, \"hour\")"
   ]
  },
  {
   "cell_type": "code",
   "execution_count": 52,
   "id": "667d680b-887f-4e04-ae76-cb8d7db9f702",
   "metadata": {},
   "outputs": [
    {
     "data": {
      "text/html": [
       "<iframe\n",
       "    scrolling=\"no\"\n",
       "    width=\"100%\"\n",
       "    height=\"545px\"\n",
       "    src=\"iframe_figures/figure_52.html\"\n",
       "    frameborder=\"0\"\n",
       "    allowfullscreen\n",
       "></iframe>\n"
      ]
     },
     "metadata": {},
     "output_type": "display_data"
    }
   ],
   "source": [
    "# def plot_piechart\n",
    "fig = px.pie(product_quantity.head(10), values='quantity', names='product_name')\n",
    "fig.show()\n"
   ]
  },
  {
   "cell_type": "code",
   "execution_count": 51,
   "id": "99b3cd78-048a-47b8-9bb6-0ee4cef1f50d",
   "metadata": {},
   "outputs": [
    {
     "data": {
      "text/html": [
       "<div>\n",
       "<style scoped>\n",
       "    .dataframe tbody tr th:only-of-type {\n",
       "        vertical-align: middle;\n",
       "    }\n",
       "\n",
       "    .dataframe tbody tr th {\n",
       "        vertical-align: top;\n",
       "    }\n",
       "\n",
       "    .dataframe thead th {\n",
       "        text-align: right;\n",
       "    }\n",
       "</style>\n",
       "<table border=\"1\" class=\"dataframe\">\n",
       "  <thead>\n",
       "    <tr style=\"text-align: right;\">\n",
       "      <th></th>\n",
       "      <th>product_name</th>\n",
       "      <th>quantity</th>\n",
       "    </tr>\n",
       "  </thead>\n",
       "  <tbody>\n",
       "    <tr>\n",
       "      <th>77</th>\n",
       "      <td>Sababay Pink Blossom 750ml</td>\n",
       "      <td>1.0</td>\n",
       "    </tr>\n",
       "    <tr>\n",
       "      <th>78</th>\n",
       "      <td>Sababay White velvet 750ml</td>\n",
       "      <td>1.0</td>\n",
       "    </tr>\n",
       "    <tr>\n",
       "      <th>87</th>\n",
       "      <td>V24 - Apricot + Tonic Water</td>\n",
       "      <td>1.0</td>\n",
       "    </tr>\n",
       "    <tr>\n",
       "      <th>90</th>\n",
       "      <td>V24 - Blue Curacao + Ginger Ale</td>\n",
       "      <td>1.0</td>\n",
       "    </tr>\n",
       "    <tr>\n",
       "      <th>61</th>\n",
       "      <td>Konig Ludwig Botol 330ml</td>\n",
       "      <td>1.0</td>\n",
       "    </tr>\n",
       "  </tbody>\n",
       "</table>\n",
       "</div>"
      ],
      "text/plain": [
       "                       product_name  quantity\n",
       "77       Sababay Pink Blossom 750ml       1.0\n",
       "78       Sababay White velvet 750ml       1.0\n",
       "87      V24 - Apricot + Tonic Water       1.0\n",
       "90  V24 - Blue Curacao + Ginger Ale       1.0\n",
       "61         Konig Ludwig Botol 330ml       1.0"
      ]
     },
     "execution_count": 51,
     "metadata": {},
     "output_type": "execute_result"
    }
   ],
   "source": [
    "product_quantity.tail()"
   ]
  },
  {
   "cell_type": "code",
   "execution_count": null,
   "id": "bbf09abc-4209-4507-b47e-a2a832c332a5",
   "metadata": {},
   "outputs": [],
   "source": []
  }
 ],
 "metadata": {
  "kernelspec": {
   "display_name": "Python 3 (ipykernel)",
   "language": "python",
   "name": "python3"
  },
  "language_info": {
   "codemirror_mode": {
    "name": "ipython",
    "version": 3
   },
   "file_extension": ".py",
   "mimetype": "text/x-python",
   "name": "python",
   "nbconvert_exporter": "python",
   "pygments_lexer": "ipython3",
   "version": "3.10.13"
  }
 },
 "nbformat": 4,
 "nbformat_minor": 5
}
